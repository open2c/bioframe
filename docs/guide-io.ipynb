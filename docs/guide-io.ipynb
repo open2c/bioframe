{
 "cells": [
  {
   "cell_type": "markdown",
   "metadata": {},
   "source": [
    "## Reading genomic dataframes"
   ]
  },
  {
   "cell_type": "code",
   "execution_count": 1,
   "metadata": {},
   "outputs": [],
   "source": [
    "import bioframe"
   ]
  },
  {
   "cell_type": "markdown",
   "metadata": {},
   "source": [
    "Bioframe provides multiple methods to convert data stored in common genomic file formats to pandas dataFrames in `bioframe.io`.\n",
    "\n"
   ]
  },
  {
   "cell_type": "markdown",
   "metadata": {},
   "source": [
    "### Reading tabular text data"
   ]
  },
  {
   "cell_type": "markdown",
   "metadata": {},
   "source": [
    "The most common need is to read tablular data, which can be accomplished with `bioframe.read_table`. This function wraps pandas `pandas.read_csv`/`pandas.read_table` (tab-delimited by default), but allows the user to easily pass a **schema** (i.e. list of pre-defined column names) for common genomic interval-based file formats. \n",
    "\n",
    "For example, "
   ]
  },
  {
   "cell_type": "code",
   "execution_count": 12,
   "metadata": {},
   "outputs": [
    {
     "data": {
      "text/html": [
       "<div>\n",
       "<style scoped>\n",
       "    .dataframe tbody tr th:only-of-type {\n",
       "        vertical-align: middle;\n",
       "    }\n",
       "\n",
       "    .dataframe tbody tr th {\n",
       "        vertical-align: top;\n",
       "    }\n",
       "\n",
       "    .dataframe thead th {\n",
       "        text-align: right;\n",
       "    }\n",
       "</style>\n",
       "<table border=\"1\" class=\"dataframe\">\n",
       "  <thead>\n",
       "    <tr style=\"text-align: right;\">\n",
       "      <th></th>\n",
       "      <th>chrom</th>\n",
       "      <th>start</th>\n",
       "      <th>end</th>\n",
       "      <th>name</th>\n",
       "      <th>score</th>\n",
       "      <th>strand</th>\n",
       "      <th>thickStart</th>\n",
       "      <th>thickEnd</th>\n",
       "      <th>rgb</th>\n",
       "    </tr>\n",
       "  </thead>\n",
       "  <tbody>\n",
       "    <tr>\n",
       "      <th>0</th>\n",
       "      <td>chr1</td>\n",
       "      <td>193500</td>\n",
       "      <td>194500</td>\n",
       "      <td>.</td>\n",
       "      <td>400</td>\n",
       "      <td>+</td>\n",
       "      <td>.</td>\n",
       "      <td>.</td>\n",
       "      <td>179,45,0</td>\n",
       "    </tr>\n",
       "    <tr>\n",
       "      <th>1</th>\n",
       "      <td>chr1</td>\n",
       "      <td>618500</td>\n",
       "      <td>619500</td>\n",
       "      <td>.</td>\n",
       "      <td>700</td>\n",
       "      <td>+</td>\n",
       "      <td>.</td>\n",
       "      <td>.</td>\n",
       "      <td>179,45,0</td>\n",
       "    </tr>\n",
       "    <tr>\n",
       "      <th>2</th>\n",
       "      <td>chr1</td>\n",
       "      <td>974500</td>\n",
       "      <td>975500</td>\n",
       "      <td>.</td>\n",
       "      <td>1000</td>\n",
       "      <td>+</td>\n",
       "      <td>.</td>\n",
       "      <td>.</td>\n",
       "      <td>179,45,0</td>\n",
       "    </tr>\n",
       "  </tbody>\n",
       "</table>\n",
       "</div>"
      ],
      "text/plain": [
       "  chrom   start     end name  score strand thickStart thickEnd       rgb\n",
       "0  chr1  193500  194500    .    400      +          .        .  179,45,0\n",
       "1  chr1  618500  619500    .    700      +          .        .  179,45,0\n",
       "2  chr1  974500  975500    .   1000      +          .        .  179,45,0"
      ]
     },
     "metadata": {},
     "output_type": "display_data"
    }
   ],
   "source": [
    "df = bioframe.read_table(\n",
    "    'https://www.encodeproject.org/files/ENCFF001XKR/@@download/ENCFF001XKR.bed.gz', \n",
    "    schema='bed9'\n",
    ")\n",
    "display(df[0:3])"
   ]
  },
  {
   "cell_type": "code",
   "execution_count": 11,
   "metadata": {},
   "outputs": [
    {
     "data": {
      "text/html": [
       "<div>\n",
       "<style scoped>\n",
       "    .dataframe tbody tr th:only-of-type {\n",
       "        vertical-align: middle;\n",
       "    }\n",
       "\n",
       "    .dataframe tbody tr th {\n",
       "        vertical-align: top;\n",
       "    }\n",
       "\n",
       "    .dataframe thead th {\n",
       "        text-align: right;\n",
       "    }\n",
       "</style>\n",
       "<table border=\"1\" class=\"dataframe\">\n",
       "  <thead>\n",
       "    <tr style=\"text-align: right;\">\n",
       "      <th></th>\n",
       "      <th>chrom</th>\n",
       "      <th>start</th>\n",
       "      <th>end</th>\n",
       "      <th>name</th>\n",
       "      <th>score</th>\n",
       "      <th>strand</th>\n",
       "      <th>fc</th>\n",
       "      <th>-log10p</th>\n",
       "      <th>-log10q</th>\n",
       "      <th>relSummit</th>\n",
       "    </tr>\n",
       "  </thead>\n",
       "  <tbody>\n",
       "    <tr>\n",
       "      <th>0</th>\n",
       "      <td>chr19</td>\n",
       "      <td>48309541</td>\n",
       "      <td>48309911</td>\n",
       "      <td>.</td>\n",
       "      <td>1000</td>\n",
       "      <td>.</td>\n",
       "      <td>5.04924</td>\n",
       "      <td>-1.0</td>\n",
       "      <td>0.00438</td>\n",
       "      <td>185</td>\n",
       "    </tr>\n",
       "    <tr>\n",
       "      <th>1</th>\n",
       "      <td>chr4</td>\n",
       "      <td>130563716</td>\n",
       "      <td>130564086</td>\n",
       "      <td>.</td>\n",
       "      <td>993</td>\n",
       "      <td>.</td>\n",
       "      <td>5.05052</td>\n",
       "      <td>-1.0</td>\n",
       "      <td>0.00432</td>\n",
       "      <td>185</td>\n",
       "    </tr>\n",
       "    <tr>\n",
       "      <th>2</th>\n",
       "      <td>chr1</td>\n",
       "      <td>200622507</td>\n",
       "      <td>200622877</td>\n",
       "      <td>.</td>\n",
       "      <td>591</td>\n",
       "      <td>.</td>\n",
       "      <td>5.05489</td>\n",
       "      <td>-1.0</td>\n",
       "      <td>0.00400</td>\n",
       "      <td>185</td>\n",
       "    </tr>\n",
       "  </tbody>\n",
       "</table>\n",
       "</div>"
      ],
      "text/plain": [
       "   chrom      start        end name  score strand       fc  -log10p  -log10q  \\\n",
       "0  chr19   48309541   48309911    .   1000      .  5.04924     -1.0  0.00438   \n",
       "1   chr4  130563716  130564086    .    993      .  5.05052     -1.0  0.00432   \n",
       "2   chr1  200622507  200622877    .    591      .  5.05489     -1.0  0.00400   \n",
       "\n",
       "   relSummit  \n",
       "0        185  \n",
       "1        185  \n",
       "2        185  "
      ]
     },
     "metadata": {},
     "output_type": "display_data"
    }
   ],
   "source": [
    "df = bioframe.read_table(\n",
    "    \"https://www.encodeproject.org/files/ENCFF401MQL/@@download/ENCFF401MQL.bed.gz\", \n",
    "     schema='narrowPeak')\n",
    "display(df[0:3])"
   ]
  },
  {
   "cell_type": "code",
   "execution_count": 14,
   "metadata": {},
   "outputs": [],
   "source": [
    "df = bioframe.read_table(\n",
    "    'https://www.encodeproject.org/files/ENCFF001VRS/@@download/ENCFF001VRS.bed.gz', \n",
    "     schema='bed12'\n",
    ")\n",
    "display(df[0:3])"
   ]
  },
  {
   "cell_type": "markdown",
   "metadata": {},
   "source": [
    "The `schema` argument looks up file type from a registry of schemas stored in the `bioframe.SCHEMAS` dictionary:"
   ]
  },
  {
   "cell_type": "code",
   "execution_count": 62,
   "metadata": {},
   "outputs": [
    {
     "data": {
      "text/plain": [
       "['chrom', 'start', 'end', 'name', 'score', 'strand']"
      ]
     },
     "execution_count": 62,
     "metadata": {},
     "output_type": "execute_result"
    }
   ],
   "source": [
    "bioframe.SCHEMAS['bed6']"
   ]
  },
  {
   "cell_type": "markdown",
   "metadata": {},
   "source": [
    "### UCSC Big Binary Indexed files (BigWig, BigBed)\n",
    "\n",
    "Bioframe also has convenience functions for reading and writing bigWig and bigBed binary files to and from pandas DataFrames."
   ]
  },
  {
   "cell_type": "code",
   "execution_count": 70,
   "metadata": {},
   "outputs": [
    {
     "data": {
      "text/html": [
       "<div>\n",
       "<style scoped>\n",
       "    .dataframe tbody tr th:only-of-type {\n",
       "        vertical-align: middle;\n",
       "    }\n",
       "\n",
       "    .dataframe tbody tr th {\n",
       "        vertical-align: top;\n",
       "    }\n",
       "\n",
       "    .dataframe thead th {\n",
       "        text-align: right;\n",
       "    }\n",
       "</style>\n",
       "<table border=\"1\" class=\"dataframe\">\n",
       "  <thead>\n",
       "    <tr style=\"text-align: right;\">\n",
       "      <th></th>\n",
       "      <th>chrom</th>\n",
       "      <th>start</th>\n",
       "      <th>end</th>\n",
       "      <th>value</th>\n",
       "    </tr>\n",
       "  </thead>\n",
       "  <tbody>\n",
       "    <tr>\n",
       "      <th>0</th>\n",
       "      <td>chr21</td>\n",
       "      <td>10000000</td>\n",
       "      <td>10000005</td>\n",
       "      <td>40.0</td>\n",
       "    </tr>\n",
       "    <tr>\n",
       "      <th>1</th>\n",
       "      <td>chr21</td>\n",
       "      <td>10000005</td>\n",
       "      <td>10000010</td>\n",
       "      <td>40.0</td>\n",
       "    </tr>\n",
       "    <tr>\n",
       "      <th>2</th>\n",
       "      <td>chr21</td>\n",
       "      <td>10000010</td>\n",
       "      <td>10000015</td>\n",
       "      <td>60.0</td>\n",
       "    </tr>\n",
       "    <tr>\n",
       "      <th>3</th>\n",
       "      <td>chr21</td>\n",
       "      <td>10000015</td>\n",
       "      <td>10000020</td>\n",
       "      <td>80.0</td>\n",
       "    </tr>\n",
       "    <tr>\n",
       "      <th>4</th>\n",
       "      <td>chr21</td>\n",
       "      <td>10000020</td>\n",
       "      <td>10000025</td>\n",
       "      <td>40.0</td>\n",
       "    </tr>\n",
       "    <tr>\n",
       "      <th>...</th>\n",
       "      <td>...</td>\n",
       "      <td>...</td>\n",
       "      <td>...</td>\n",
       "      <td>...</td>\n",
       "    </tr>\n",
       "    <tr>\n",
       "      <th>1995</th>\n",
       "      <td>chr21</td>\n",
       "      <td>10009975</td>\n",
       "      <td>10009980</td>\n",
       "      <td>40.0</td>\n",
       "    </tr>\n",
       "    <tr>\n",
       "      <th>1996</th>\n",
       "      <td>chr21</td>\n",
       "      <td>10009980</td>\n",
       "      <td>10009985</td>\n",
       "      <td>60.0</td>\n",
       "    </tr>\n",
       "    <tr>\n",
       "      <th>1997</th>\n",
       "      <td>chr21</td>\n",
       "      <td>10009985</td>\n",
       "      <td>10009990</td>\n",
       "      <td>60.0</td>\n",
       "    </tr>\n",
       "    <tr>\n",
       "      <th>1998</th>\n",
       "      <td>chr21</td>\n",
       "      <td>10009990</td>\n",
       "      <td>10009995</td>\n",
       "      <td>20.0</td>\n",
       "    </tr>\n",
       "    <tr>\n",
       "      <th>1999</th>\n",
       "      <td>chr21</td>\n",
       "      <td>10009995</td>\n",
       "      <td>10010000</td>\n",
       "      <td>60.0</td>\n",
       "    </tr>\n",
       "  </tbody>\n",
       "</table>\n",
       "<p>2000 rows × 4 columns</p>\n",
       "</div>"
      ],
      "text/plain": [
       "      chrom     start       end  value\n",
       "0     chr21  10000000  10000005   40.0\n",
       "1     chr21  10000005  10000010   40.0\n",
       "2     chr21  10000010  10000015   60.0\n",
       "3     chr21  10000015  10000020   80.0\n",
       "4     chr21  10000020  10000025   40.0\n",
       "...     ...       ...       ...    ...\n",
       "1995  chr21  10009975  10009980   40.0\n",
       "1996  chr21  10009980  10009985   60.0\n",
       "1997  chr21  10009985  10009990   60.0\n",
       "1998  chr21  10009990  10009995   20.0\n",
       "1999  chr21  10009995  10010000   60.0\n",
       "\n",
       "[2000 rows x 4 columns]"
      ]
     },
     "execution_count": 70,
     "metadata": {},
     "output_type": "execute_result"
    }
   ],
   "source": [
    "bw_url = 'http://genome.ucsc.edu/goldenPath/help/examples/bigWigExample.bw'\n",
    "df = bioframe.read_bigwig(bw_url, \"chr21\", start=10_000_000, end=10_010_000)\n",
    "df.head(5)"
   ]
  },
  {
   "cell_type": "code",
   "execution_count": 83,
   "metadata": {},
   "outputs": [
    {
     "data": {
      "text/html": [
       "<div>\n",
       "<style scoped>\n",
       "    .dataframe tbody tr th:only-of-type {\n",
       "        vertical-align: middle;\n",
       "    }\n",
       "\n",
       "    .dataframe tbody tr th {\n",
       "        vertical-align: top;\n",
       "    }\n",
       "\n",
       "    .dataframe thead th {\n",
       "        text-align: right;\n",
       "    }\n",
       "</style>\n",
       "<table border=\"1\" class=\"dataframe\">\n",
       "  <thead>\n",
       "    <tr style=\"text-align: right;\">\n",
       "      <th></th>\n",
       "      <th>chrom</th>\n",
       "      <th>start</th>\n",
       "      <th>end</th>\n",
       "      <th>value</th>\n",
       "    </tr>\n",
       "  </thead>\n",
       "  <tbody>\n",
       "    <tr>\n",
       "      <th>0</th>\n",
       "      <td>chr21</td>\n",
       "      <td>10000000</td>\n",
       "      <td>10000005</td>\n",
       "      <td>400000.0</td>\n",
       "    </tr>\n",
       "    <tr>\n",
       "      <th>1</th>\n",
       "      <td>chr21</td>\n",
       "      <td>10000005</td>\n",
       "      <td>10000010</td>\n",
       "      <td>400000.0</td>\n",
       "    </tr>\n",
       "    <tr>\n",
       "      <th>2</th>\n",
       "      <td>chr21</td>\n",
       "      <td>10000010</td>\n",
       "      <td>10000015</td>\n",
       "      <td>600000.0</td>\n",
       "    </tr>\n",
       "    <tr>\n",
       "      <th>3</th>\n",
       "      <td>chr21</td>\n",
       "      <td>10000015</td>\n",
       "      <td>10000020</td>\n",
       "      <td>800000.0</td>\n",
       "    </tr>\n",
       "    <tr>\n",
       "      <th>4</th>\n",
       "      <td>chr21</td>\n",
       "      <td>10000020</td>\n",
       "      <td>10000025</td>\n",
       "      <td>400000.0</td>\n",
       "    </tr>\n",
       "  </tbody>\n",
       "</table>\n",
       "</div>"
      ],
      "text/plain": [
       "   chrom     start       end     value\n",
       "0  chr21  10000000  10000005  400000.0\n",
       "1  chr21  10000005  10000010  400000.0\n",
       "2  chr21  10000010  10000015  600000.0\n",
       "3  chr21  10000015  10000020  800000.0\n",
       "4  chr21  10000020  10000025  400000.0"
      ]
     },
     "execution_count": 83,
     "metadata": {},
     "output_type": "execute_result"
    }
   ],
   "source": [
    "df['value'] *= 100\n",
    "df.head(5)"
   ]
  },
  {
   "cell_type": "code",
   "execution_count": 82,
   "metadata": {},
   "outputs": [
    {
     "data": {
      "text/plain": [
       "CompletedProcess(args=['bedGraphToBigWig', '/var/folders/4s/d866wm3s4zbc9m41334fxfwr0000gp/T/tmpdvz4xpzu.bg', '/var/folders/4s/d866wm3s4zbc9m41334fxfwr0000gp/T/tmp00_9n7bj.chrom.sizes', 'times100.bw'], returncode=0, stdout=b'', stderr=b'')"
      ]
     },
     "execution_count": 82,
     "metadata": {},
     "output_type": "execute_result"
    }
   ],
   "source": [
    "chromsizes = bioframe.fetch_chromsizes('hg19')\n",
    "bioframe.to_bigwig(df, chromsizes, 'times100.bw')  \n",
    "# note: requires UCSC bedGraphToBigWig binary, which can be installed as\n",
    "# !conda install -y -c bioconda ucsc-bedgraphtobigwig"
   ]
  },
  {
   "cell_type": "code",
   "execution_count": 84,
   "metadata": {},
   "outputs": [
    {
     "data": {
      "text/html": [
       "<div>\n",
       "<style scoped>\n",
       "    .dataframe tbody tr th:only-of-type {\n",
       "        vertical-align: middle;\n",
       "    }\n",
       "\n",
       "    .dataframe tbody tr th {\n",
       "        vertical-align: top;\n",
       "    }\n",
       "\n",
       "    .dataframe thead th {\n",
       "        text-align: right;\n",
       "    }\n",
       "</style>\n",
       "<table border=\"1\" class=\"dataframe\">\n",
       "  <thead>\n",
       "    <tr style=\"text-align: right;\">\n",
       "      <th></th>\n",
       "      <th>chrom</th>\n",
       "      <th>start</th>\n",
       "      <th>end</th>\n",
       "    </tr>\n",
       "  </thead>\n",
       "  <tbody>\n",
       "    <tr>\n",
       "      <th>0</th>\n",
       "      <td>chr21</td>\n",
       "      <td>48003453</td>\n",
       "      <td>48003785</td>\n",
       "    </tr>\n",
       "    <tr>\n",
       "      <th>1</th>\n",
       "      <td>chr21</td>\n",
       "      <td>48003545</td>\n",
       "      <td>48003672</td>\n",
       "    </tr>\n",
       "    <tr>\n",
       "      <th>2</th>\n",
       "      <td>chr21</td>\n",
       "      <td>48018114</td>\n",
       "      <td>48019432</td>\n",
       "    </tr>\n",
       "    <tr>\n",
       "      <th>3</th>\n",
       "      <td>chr21</td>\n",
       "      <td>48018244</td>\n",
       "      <td>48018550</td>\n",
       "    </tr>\n",
       "    <tr>\n",
       "      <th>4</th>\n",
       "      <td>chr21</td>\n",
       "      <td>48018843</td>\n",
       "      <td>48019099</td>\n",
       "    </tr>\n",
       "  </tbody>\n",
       "</table>\n",
       "</div>"
      ],
      "text/plain": [
       "   chrom     start       end\n",
       "0  chr21  48003453  48003785\n",
       "1  chr21  48003545  48003672\n",
       "2  chr21  48018114  48019432\n",
       "3  chr21  48018244  48018550\n",
       "4  chr21  48018843  48019099"
      ]
     },
     "execution_count": 84,
     "metadata": {},
     "output_type": "execute_result"
    }
   ],
   "source": [
    "bb_url = 'http://genome.ucsc.edu/goldenPath/help/examples/bigBedExample.bb'\n",
    "bioframe.read_bigbed(bb_url, \"chr21\", start=48000000).head()"
   ]
  },
  {
   "cell_type": "markdown",
   "metadata": {},
   "source": [
    "### Reading genome assembly information"
   ]
  },
  {
   "cell_type": "markdown",
   "metadata": {},
   "source": [
    "The most fundamental information about a genome assembly is its set of chromosome sizes.\n",
    "\n",
    "    "
   ]
  },
  {
   "cell_type": "markdown",
   "metadata": {},
   "source": [
    "Bioframe provides functions to read chromosome sizes file as `pandas.Series`, with some useful filtering and sorting options:"
   ]
  },
  {
   "cell_type": "code",
   "execution_count": 40,
   "metadata": {},
   "outputs": [
    {
     "data": {
      "text/plain": [
       "chr1     248956422\n",
       "chr2     242193529\n",
       "chr3     198295559\n",
       "chr4     190214555\n",
       "chr5     181538259\n",
       "chr6     170805979\n",
       "chr7     159345973\n",
       "chr8     145138636\n",
       "chr9     138394717\n",
       "chr10    133797422\n",
       "chr11    135086622\n",
       "chr12    133275309\n",
       "chr13    114364328\n",
       "chr14    107043718\n",
       "chr15    101991189\n",
       "chr16     90338345\n",
       "chr17     83257441\n",
       "chr18     80373285\n",
       "chr19     58617616\n",
       "chr20     64444167\n",
       "chr21     46709983\n",
       "chr22     50818468\n",
       "chrX     156040895\n",
       "chrY      57227415\n",
       "chrM         16569\n",
       "Name: length, dtype: int64"
      ]
     },
     "execution_count": 40,
     "metadata": {},
     "output_type": "execute_result"
    }
   ],
   "source": [
    "bioframe.read_chromsizes(\n",
    "    'https://hgdownload.soe.ucsc.edu/goldenPath/hg38/bigZips/hg38.chrom.sizes'\n",
    ")"
   ]
  },
  {
   "cell_type": "code",
   "execution_count": 41,
   "metadata": {},
   "outputs": [
    {
     "data": {
      "text/plain": [
       "chr1                248956422\n",
       "chr2                242193529\n",
       "chr3                198295559\n",
       "chr4                190214555\n",
       "chr5                181538259\n",
       "                      ...    \n",
       "chrUn_KI270539v1          993\n",
       "chrUn_KI270385v1          990\n",
       "chrUn_KI270423v1          981\n",
       "chrUn_KI270392v1          971\n",
       "chrUn_KI270394v1          970\n",
       "Name: length, Length: 455, dtype: int64"
      ]
     },
     "execution_count": 41,
     "metadata": {},
     "output_type": "execute_result"
    }
   ],
   "source": [
    "bioframe.read_chromsizes('https://hgdownload.soe.ucsc.edu/goldenPath/hg38/bigZips/hg38.chrom.sizes',\n",
    "                         filter_chroms=False)"
   ]
  },
  {
   "cell_type": "code",
   "execution_count": 42,
   "metadata": {},
   "outputs": [],
   "source": [
    "dm6_url = 'https://hgdownload.soe.ucsc.edu/goldenPath/dm6/database/chromInfo.txt.gz'"
   ]
  },
  {
   "cell_type": "code",
   "execution_count": 43,
   "metadata": {},
   "outputs": [
    {
     "data": {
      "text/plain": [
       "chr2L    23513712\n",
       "chr2R    25286936\n",
       "chr3L    28110227\n",
       "chr3R    32079331\n",
       "chr4      1348131\n",
       "chrX     23542271\n",
       "Name: length, dtype: int64"
      ]
     },
     "execution_count": 43,
     "metadata": {},
     "output_type": "execute_result"
    }
   ],
   "source": [
    "bioframe.read_chromsizes(dm6_url,\n",
    "                         filter_chroms=True, \n",
    "                         chrom_patterns=(\"^chr2L$\", \"^chr2R$\", \"^chr3L$\", \"^chr3R$\", \"^chr4$\", \"^chrX$\")\n",
    ")"
   ]
  },
  {
   "cell_type": "code",
   "execution_count": 44,
   "metadata": {},
   "outputs": [
    {
     "data": {
      "text/plain": [
       "chr2L    23513712\n",
       "chr3L    28110227\n",
       "chr2R    25286936\n",
       "chr3R    32079331\n",
       "chr4      1348131\n",
       "chrX     23542271\n",
       "chrM        19524\n",
       "Name: length, dtype: int64"
      ]
     },
     "execution_count": 44,
     "metadata": {},
     "output_type": "execute_result"
    }
   ],
   "source": [
    "bioframe.read_chromsizes(dm6_url, chrom_patterns=[\"^chr\\d+L$\", \"^chr\\d+R$\", \"^chr4$\", \"^chrX$\", \"^chrM$\"])"
   ]
  },
  {
   "cell_type": "markdown",
   "metadata": {},
   "source": [
    "Bioframe provides a convenience function to fetch chromosome sizes from UCSC given an assembly name:"
   ]
  },
  {
   "cell_type": "code",
   "execution_count": 45,
   "metadata": {},
   "outputs": [
    {
     "data": {
      "text/plain": [
       "chr21     46709983\n",
       "chr22     50818468\n",
       "chrX     156040895\n",
       "chrY      57227415\n",
       "chrM         16569\n",
       "Name: length, dtype: int64"
      ]
     },
     "execution_count": 45,
     "metadata": {},
     "output_type": "execute_result"
    }
   ],
   "source": [
    "chromsizes = bioframe.fetch_chromsizes('hg38')\n",
    "chromsizes[-5:]"
   ]
  },
  {
   "cell_type": "code",
   "execution_count": 24,
   "metadata": {},
   "outputs": [],
   "source": [
    "# # bioframe also has locally stored information for certain assemblies that can be \n",
    "# # read as follows \n",
    "# bioframe.get_seqinfo()\n",
    "# bioframe.get_chromsizes('hg38', unit='primary', type=('chromosome', 'non-nuclear'), )"
   ]
  },
  {
   "cell_type": "markdown",
   "metadata": {},
   "source": [
    "Bioframe can also generate a list of centromere positions using information from some UCSC assemblies:"
   ]
  },
  {
   "cell_type": "code",
   "execution_count": 51,
   "metadata": {},
   "outputs": [
    {
     "data": {
      "text/html": [
       "<div>\n",
       "<style scoped>\n",
       "    .dataframe tbody tr th:only-of-type {\n",
       "        vertical-align: middle;\n",
       "    }\n",
       "\n",
       "    .dataframe tbody tr th {\n",
       "        vertical-align: top;\n",
       "    }\n",
       "\n",
       "    .dataframe thead th {\n",
       "        text-align: right;\n",
       "    }\n",
       "</style>\n",
       "<table border=\"1\" class=\"dataframe\">\n",
       "  <thead>\n",
       "    <tr style=\"text-align: right;\">\n",
       "      <th></th>\n",
       "      <th>chrom</th>\n",
       "      <th>start</th>\n",
       "      <th>end</th>\n",
       "      <th>mid</th>\n",
       "    </tr>\n",
       "  </thead>\n",
       "  <tbody>\n",
       "    <tr>\n",
       "      <th>0</th>\n",
       "      <td>chr1</td>\n",
       "      <td>122026459</td>\n",
       "      <td>124932724</td>\n",
       "      <td>123479591</td>\n",
       "    </tr>\n",
       "    <tr>\n",
       "      <th>1</th>\n",
       "      <td>chr10</td>\n",
       "      <td>39686682</td>\n",
       "      <td>41593521</td>\n",
       "      <td>40640101</td>\n",
       "    </tr>\n",
       "    <tr>\n",
       "      <th>2</th>\n",
       "      <td>chr11</td>\n",
       "      <td>51078348</td>\n",
       "      <td>54425074</td>\n",
       "      <td>52751711</td>\n",
       "    </tr>\n",
       "  </tbody>\n",
       "</table>\n",
       "</div>"
      ],
      "text/plain": [
       "   chrom      start        end        mid\n",
       "0   chr1  122026459  124932724  123479591\n",
       "1  chr10   39686682   41593521   40640101\n",
       "2  chr11   51078348   54425074   52751711"
      ]
     },
     "metadata": {},
     "output_type": "display_data"
    }
   ],
   "source": [
    "display(\n",
    "    bioframe.fetch_centromeres('hg38')[:3]\n",
    ")"
   ]
  },
  {
   "cell_type": "markdown",
   "metadata": {},
   "source": [
    "These functions are just wrappers for a UCSC client. Users can also use `UCSCClient` directly:"
   ]
  },
  {
   "cell_type": "code",
   "execution_count": 54,
   "metadata": {},
   "outputs": [
    {
     "data": {
      "text/html": [
       "<div>\n",
       "<style scoped>\n",
       "    .dataframe tbody tr th:only-of-type {\n",
       "        vertical-align: middle;\n",
       "    }\n",
       "\n",
       "    .dataframe tbody tr th {\n",
       "        vertical-align: top;\n",
       "    }\n",
       "\n",
       "    .dataframe thead th {\n",
       "        text-align: right;\n",
       "    }\n",
       "</style>\n",
       "<table border=\"1\" class=\"dataframe\">\n",
       "  <thead>\n",
       "    <tr style=\"text-align: right;\">\n",
       "      <th></th>\n",
       "      <th>chrom</th>\n",
       "      <th>start</th>\n",
       "      <th>end</th>\n",
       "      <th>name</th>\n",
       "      <th>gieStain</th>\n",
       "    </tr>\n",
       "  </thead>\n",
       "  <tbody>\n",
       "    <tr>\n",
       "      <th>0</th>\n",
       "      <td>chr1</td>\n",
       "      <td>0</td>\n",
       "      <td>2300000</td>\n",
       "      <td>p36.33</td>\n",
       "      <td>gneg</td>\n",
       "    </tr>\n",
       "    <tr>\n",
       "      <th>1</th>\n",
       "      <td>chr1</td>\n",
       "      <td>2300000</td>\n",
       "      <td>5300000</td>\n",
       "      <td>p36.32</td>\n",
       "      <td>gpos25</td>\n",
       "    </tr>\n",
       "    <tr>\n",
       "      <th>2</th>\n",
       "      <td>chr1</td>\n",
       "      <td>5300000</td>\n",
       "      <td>7100000</td>\n",
       "      <td>p36.31</td>\n",
       "      <td>gneg</td>\n",
       "    </tr>\n",
       "    <tr>\n",
       "      <th>3</th>\n",
       "      <td>chr1</td>\n",
       "      <td>7100000</td>\n",
       "      <td>9100000</td>\n",
       "      <td>p36.23</td>\n",
       "      <td>gpos25</td>\n",
       "    </tr>\n",
       "    <tr>\n",
       "      <th>4</th>\n",
       "      <td>chr1</td>\n",
       "      <td>9100000</td>\n",
       "      <td>12500000</td>\n",
       "      <td>p36.22</td>\n",
       "      <td>gneg</td>\n",
       "    </tr>\n",
       "    <tr>\n",
       "      <th>...</th>\n",
       "      <td>...</td>\n",
       "      <td>...</td>\n",
       "      <td>...</td>\n",
       "      <td>...</td>\n",
       "      <td>...</td>\n",
       "    </tr>\n",
       "    <tr>\n",
       "      <th>1473</th>\n",
       "      <td>chr9_ML143353v1_fix</td>\n",
       "      <td>0</td>\n",
       "      <td>25408</td>\n",
       "      <td>NaN</td>\n",
       "      <td>gneg</td>\n",
       "    </tr>\n",
       "    <tr>\n",
       "      <th>1474</th>\n",
       "      <td>chrX_ML143385v1_fix</td>\n",
       "      <td>0</td>\n",
       "      <td>17435</td>\n",
       "      <td>NaN</td>\n",
       "      <td>gneg</td>\n",
       "    </tr>\n",
       "    <tr>\n",
       "      <th>1475</th>\n",
       "      <td>chrX_ML143384v1_fix</td>\n",
       "      <td>0</td>\n",
       "      <td>14678</td>\n",
       "      <td>NaN</td>\n",
       "      <td>gneg</td>\n",
       "    </tr>\n",
       "    <tr>\n",
       "      <th>1476</th>\n",
       "      <td>chr22_ML143379v1_fix</td>\n",
       "      <td>0</td>\n",
       "      <td>12295</td>\n",
       "      <td>NaN</td>\n",
       "      <td>gneg</td>\n",
       "    </tr>\n",
       "    <tr>\n",
       "      <th>1477</th>\n",
       "      <td>chr13_ML143363v1_fix</td>\n",
       "      <td>0</td>\n",
       "      <td>7309</td>\n",
       "      <td>NaN</td>\n",
       "      <td>gneg</td>\n",
       "    </tr>\n",
       "  </tbody>\n",
       "</table>\n",
       "<p>1478 rows × 5 columns</p>\n",
       "</div>"
      ],
      "text/plain": [
       "                     chrom    start       end    name gieStain\n",
       "0                     chr1        0   2300000  p36.33     gneg\n",
       "1                     chr1  2300000   5300000  p36.32   gpos25\n",
       "2                     chr1  5300000   7100000  p36.31     gneg\n",
       "3                     chr1  7100000   9100000  p36.23   gpos25\n",
       "4                     chr1  9100000  12500000  p36.22     gneg\n",
       "...                    ...      ...       ...     ...      ...\n",
       "1473   chr9_ML143353v1_fix        0     25408     NaN     gneg\n",
       "1474   chrX_ML143385v1_fix        0     17435     NaN     gneg\n",
       "1475   chrX_ML143384v1_fix        0     14678     NaN     gneg\n",
       "1476  chr22_ML143379v1_fix        0     12295     NaN     gneg\n",
       "1477  chr13_ML143363v1_fix        0      7309     NaN     gneg\n",
       "\n",
       "[1478 rows x 5 columns]"
      ]
     },
     "execution_count": 54,
     "metadata": {},
     "output_type": "execute_result"
    }
   ],
   "source": [
    "client = bioframe.UCSCClient('hg38')\n",
    "client.fetch_cytoband()"
   ]
  },
  {
   "cell_type": "markdown",
   "metadata": {},
   "source": [
    "### Reading other genomic formats"
   ]
  },
  {
   "cell_type": "markdown",
   "metadata": {},
   "source": [
    "See the [docs for File I/O](https://bioframe.readthedocs.io/en/latest/api-fileops.html) for other supported file formats."
   ]
  }
 ],
 "metadata": {
  "kernelspec": {
   "display_name": "Python 3 (ipykernel)",
   "language": "python",
   "name": "python3"
  },
  "language_info": {
   "codemirror_mode": {
    "name": "ipython",
    "version": 3
   },
   "file_extension": ".py",
   "mimetype": "text/x-python",
   "name": "python",
   "nbconvert_exporter": "python",
   "pygments_lexer": "ipython3",
   "version": "3.8.5"
  }
 },
 "nbformat": 4,
 "nbformat_minor": 4
}
