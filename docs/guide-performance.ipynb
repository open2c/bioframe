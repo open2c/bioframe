{
 "cells": [
  {
   "cell_type": "markdown",
   "metadata": {},
   "source": [
    "# Performance"
   ]
  },
  {
   "cell_type": "code",
   "execution_count": 1,
   "metadata": {},
   "outputs": [],
   "source": [
    "import platform\n",
    "import psutil\n",
    "\n",
    "import numpy as np\n",
    "import pandas as pd\n",
    "import matplotlib.pyplot as plt\n",
    "plt.rcParams['figure.facecolor']='white'\n",
    "plt.rcParams['font.size']=16\n",
    "\n",
    "import bioframe\n",
    "import pyranges"
   ]
  },
  {
   "cell_type": "code",
   "execution_count": 2,
   "metadata": {},
   "outputs": [
    {
     "name": "stdout",
     "output_type": "stream",
     "text": [
      "Bioframe v.0.2.0\n",
      "PyRanges v.0.0.95\n",
      "System Platform: macOS-10.15.7-x86_64-i386-64bit\n",
      "4 CPUs at 2300 GHz\n"
     ]
    }
   ],
   "source": [
    "print(f\"Bioframe v.{bioframe.__version__}\")\n",
    "print(f\"PyRanges v.{pyranges.__version__}\")\n",
    "print(f\"System Platform: {platform.platform()}\")\n",
    "print(f\"{psutil.cpu_count()} CPUs at {psutil.cpu_freq().current:.0f} GHz\") "
   ]
  },
  {
   "cell_type": "code",
   "execution_count": 3,
   "metadata": {},
   "outputs": [],
   "source": [
    "def make_random_intervals(\n",
    "        n=1e5, n_chroms=1, max_coord=None, max_length=10, categorical_chroms=False,\n",
    "        sort=False\n",
    "    ):\n",
    "    n = int(n)\n",
    "    n_chroms = int(n_chroms)\n",
    "    max_coord = (n // n_chroms) if max_coord is None else int(max_coord)\n",
    "    max_length = int(max_length)\n",
    "    \n",
    "    chroms = np.array(['chr'+str(i+1) for i in range(n_chroms)])[\n",
    "        np.random.randint(0, n_chroms, n)]\n",
    "    starts = np.random.randint(0, max_coord, n)\n",
    "    ends = starts + np.random.randint(0, max_length, n)\n",
    "\n",
    "    df = pd.DataFrame({\n",
    "        'chrom':chroms,\n",
    "        'start':starts,\n",
    "        'end':ends\n",
    "    })\n",
    "    \n",
    "    if categorical_chroms:\n",
    "        df['chrom'] = df['chrom'].astype('category')\n",
    "\n",
    "    if sort:\n",
    "        df = df.sort_values(['chrom','start','end']).reset_index()\n",
    "        \n",
    "    return df\n"
   ]
  },
  {
   "cell_type": "markdown",
   "metadata": {},
   "source": [
    "## Overlap"
   ]
  },
  {
   "cell_type": "markdown",
   "metadata": {},
   "source": [
    "### vs number of intervals"
   ]
  },
  {
   "cell_type": "code",
   "execution_count": 4,
   "metadata": {},
   "outputs": [
    {
     "name": "stdout",
     "output_type": "stream",
     "text": [
      "8.26 ms ± 0 ns per loop (mean ± std. dev. of 1 run, 100 loops each)\n",
      "9.55 ms ± 0 ns per loop (mean ± std. dev. of 1 run, 100 loops each)\n",
      "42.8 ms ± 0 ns per loop (mean ± std. dev. of 1 run, 10 loops each)\n",
      "368 ms ± 0 ns per loop (mean ± std. dev. of 1 run, 1 loop each)\n",
      "5.54 s ± 0 ns per loop (mean ± std. dev. of 1 run, 1 loop each)\n"
     ]
    }
   ],
   "source": [
    "timings = {}\n",
    "for n in [1e2, 1e3, 1e4, 1e5, 1e6]:\n",
    "    df = make_random_intervals(n=n, n_chroms=1)\n",
    "    df2 = make_random_intervals(n=n, n_chroms=1)\n",
    "    timings[n] = %timeit -o -r 1 bioframe.overlap(df, df2)"
   ]
  },
  {
   "cell_type": "code",
   "execution_count": 5,
   "metadata": {},
   "outputs": [
    {
     "data": {
      "image/png": "[encoded data removed]",
      "text/plain": [
       "<Figure size 432x288 with 1 Axes>"
      ]
     },
     "metadata": {},
     "output_type": "display_data"
    }
   ],
   "source": [
    "plt.loglog(\n",
    "    list(timings.keys()),\n",
    "    list([r.average for r in timings.values()]),\n",
    "    'o-',\n",
    ")\n",
    "plt.xlabel('N intervals')\n",
    "plt.ylabel('time, ms')\n",
    "plt.gca().set_aspect(1.0)\n",
    "plt.grid()"
   ]
  },
  {
   "cell_type": "markdown",
   "metadata": {},
   "source": [
    "#### vs total number of intersections"
   ]
  },
  {
   "cell_type": "code",
   "execution_count": 6,
   "metadata": {},
   "outputs": [
    {
     "name": "stdout",
     "output_type": "stream",
     "text": [
      "26.7 ms ± 0 ns per loop (mean ± std. dev. of 1 run, 10 loops each)\n",
      "58.4 ms ± 0 ns per loop (mean ± std. dev. of 1 run, 10 loops each)\n",
      "176 ms ± 0 ns per loop (mean ± std. dev. of 1 run, 10 loops each)\n",
      "579 ms ± 0 ns per loop (mean ± std. dev. of 1 run, 1 loop each)\n",
      "1.8 s ± 0 ns per loop (mean ± std. dev. of 1 run, 1 loop each)\n"
     ]
    }
   ],
   "source": [
    "timings = {}\n",
    "n_intersections = {}\n",
    "n = 1e4\n",
    "for avg_interval_len in [3, 1e1, 3e1, 1e2, 3e2]:\n",
    "    df = make_random_intervals(n=n, n_chroms=1, max_length=avg_interval_len*2)\n",
    "    df2 = make_random_intervals(n=n, n_chroms=1, max_length=avg_interval_len*2)\n",
    "    timings[avg_interval_len] = %timeit -o -r 1 bioframe.overlap(df, df2)\n",
    "    n_intersections[avg_interval_len] = bioframe.overlap(df, df2).shape[0]"
   ]
  },
  {
   "cell_type": "code",
   "execution_count": 7,
   "metadata": {},
   "outputs": [
    {
     "data": {
      "image/png": "[encoded data removed]",
      "text/plain": [
       "<Figure size 432x288 with 1 Axes>"
      ]
     },
     "metadata": {},
     "output_type": "display_data"
    }
   ],
   "source": [
    "plt.loglog(\n",
    "    list(n_intersections.values()),\n",
    "    list([r.average for r in timings.values()]),\n",
    "    'o-',\n",
    ")\n",
    "plt.xlabel('N intersections')\n",
    "plt.ylabel('time, ms')\n",
    "plt.gca().set_aspect(1.0)\n",
    "plt.grid()"
   ]
  },
  {
   "cell_type": "markdown",
   "metadata": {},
   "source": [
    "#### vs number of chromosomes"
   ]
  },
  {
   "cell_type": "code",
   "execution_count": 8,
   "metadata": {},
   "outputs": [
    {
     "name": "stdout",
     "output_type": "stream",
     "text": [
      "353 ms ± 0 ns per loop (mean ± std. dev. of 1 run, 1 loop each)\n",
      "399 ms ± 0 ns per loop (mean ± std. dev. of 1 run, 1 loop each)\n",
      "351 ms ± 0 ns per loop (mean ± std. dev. of 1 run, 1 loop each)\n",
      "382 ms ± 0 ns per loop (mean ± std. dev. of 1 run, 1 loop each)\n",
      "334 ms ± 0 ns per loop (mean ± std. dev. of 1 run, 1 loop each)\n",
      "448 ms ± 0 ns per loop (mean ± std. dev. of 1 run, 1 loop each)\n",
      "509 ms ± 0 ns per loop (mean ± std. dev. of 1 run, 1 loop each)\n"
     ]
    }
   ],
   "source": [
    "timings = {}\n",
    "n_intersections = {}\n",
    "n = 1e5\n",
    "for n_chroms in [1, 3, 10, 30, 100, 300, 1000]:\n",
    "    df = make_random_intervals(n, n_chroms)\n",
    "    df2 = make_random_intervals(n, n_chroms)\n",
    "    timings[n_chroms] = %timeit -o -r 1 bioframe.overlap(df, df2)\n",
    "    n_intersections[n_chroms] = bioframe.overlap(df, df2).shape[0]\n"
   ]
  },
  {
   "cell_type": "code",
   "execution_count": 9,
   "metadata": {},
   "outputs": [
    {
     "data": {
      "text/plain": [
       "{1: 808885,\n",
       " 3: 808242,\n",
       " 10: 808475,\n",
       " 30: 809528,\n",
       " 100: 809998,\n",
       " 300: 804316,\n",
       " 1000: 786443}"
      ]
     },
     "execution_count": 9,
     "metadata": {},
     "output_type": "execute_result"
    }
   ],
   "source": [
    "n_intersections"
   ]
  },
  {
   "cell_type": "code",
   "execution_count": 10,
   "metadata": {},
   "outputs": [
    {
     "data": {
      "image/png": "[encoded data removed]",
      "text/plain": [
       "<Figure size 432x288 with 1 Axes>"
      ]
     },
     "metadata": {},
     "output_type": "display_data"
    }
   ],
   "source": [
    "plt.loglog(\n",
    "    list(timings.keys()),\n",
    "    list([r.average for r in timings.values()]),\n",
    "    'o-',\n",
    ")\n",
    "plt.xlabel('# chromosomes')\n",
    "plt.ylabel('time, ms')\n",
    "# plt.gca().set_aspect(1.0)\n",
    "plt.grid()"
   ]
  },
  {
   "cell_type": "markdown",
   "metadata": {},
   "source": [
    "#### vs other parameters: join type, sorted or categorical inputs"
   ]
  },
  {
   "cell_type": "code",
   "execution_count": 11,
   "metadata": {},
   "outputs": [
    {
     "name": "stdout",
     "output_type": "stream",
     "text": [
      "383 ms ± 0 ns per loop (mean ± std. dev. of 1 run, 1 loop each)\n",
      "234 ms ± 0 ns per loop (mean ± std. dev. of 1 run, 1 loop each)\n",
      "357 ms ± 0 ns per loop (mean ± std. dev. of 1 run, 1 loop each)\n"
     ]
    }
   ],
   "source": [
    "df = make_random_intervals()\n",
    "df2 = make_random_intervals()\n",
    "\n",
    "%timeit -r 1 bioframe.overlap(df, df2)\n",
    "%timeit -r 1 bioframe.overlap(df, df2, how='inner')\n",
    "%timeit -r 1 bioframe.overlap(df, df2, how='left')"
   ]
  },
  {
   "cell_type": "code",
   "execution_count": 12,
   "metadata": {},
   "outputs": [
    {
     "name": "stdout",
     "output_type": "stream",
     "text": [
      "419 ms ± 0 ns per loop (mean ± std. dev. of 1 run, 1 loop each)\n",
      "442 ms ± 0 ns per loop (mean ± std. dev. of 1 run, 1 loop each)\n",
      "567 ms ± 0 ns per loop (mean ± std. dev. of 1 run, 1 loop each)\n"
     ]
    }
   ],
   "source": [
    "df = make_random_intervals()\n",
    "df2 = make_random_intervals()\n",
    "\n",
    "%timeit -r 1 bioframe.overlap(df, df2)\n",
    "%timeit -r 1 bioframe.overlap(df, df2, return_overlap=True)\n",
    "%timeit -r 1 bioframe.overlap(df, df2, keep_order=True)"
   ]
  },
  {
   "cell_type": "code",
   "execution_count": 13,
   "metadata": {},
   "outputs": [
    {
     "name": "stdout",
     "output_type": "stream",
     "text": [
      "378 ms ± 0 ns per loop (mean ± std. dev. of 1 run, 1 loop each)\n",
      "230 ms ± 0 ns per loop (mean ± std. dev. of 1 run, 1 loop each)\n",
      "121 ms ± 0 ns per loop (mean ± std. dev. of 1 run, 10 loops each)\n",
      "112 ms ± 0 ns per loop (mean ± std. dev. of 1 run, 10 loops each)\n"
     ]
    }
   ],
   "source": [
    "df = make_random_intervals()\n",
    "df2 = make_random_intervals()\n",
    "\n",
    "%timeit -r 1 bioframe.overlap(df, df2)\n",
    "%timeit -r 1 bioframe.overlap(df, df2, how='inner')\n",
    "%timeit -r 1 bioframe.ops._overlap_intidxs(df, df2)\n",
    "%timeit -r 1 bioframe.ops._overlap_intidxs(df, df2, how='inner')"
   ]
  },
  {
   "cell_type": "code",
   "execution_count": 14,
   "metadata": {},
   "outputs": [
    {
     "name": "stdout",
     "output_type": "stream",
     "text": [
      "Default inputs (outer/inner joins):\n",
      "389 ms ± 0 ns per loop (mean ± std. dev. of 1 run, 1 loop each)\n",
      "245 ms ± 0 ns per loop (mean ± std. dev. of 1 run, 1 loop each)\n",
      "Sorted inputs (outer/inner joins):\n",
      "451 ms ± 0 ns per loop (mean ± std. dev. of 1 run, 1 loop each)\n",
      "325 ms ± 0 ns per loop (mean ± std. dev. of 1 run, 1 loop each)\n",
      "Categorical chromosomes (outer/inner joins):\n",
      "342 ms ± 0 ns per loop (mean ± std. dev. of 1 run, 1 loop each)\n",
      "188 ms ± 0 ns per loop (mean ± std. dev. of 1 run, 10 loops each)\n"
     ]
    }
   ],
   "source": [
    "print('Default inputs (outer/inner joins):')\n",
    "df = make_random_intervals()\n",
    "df2 = make_random_intervals()\n",
    "\n",
    "%timeit -r 1 bioframe.overlap(df, df2)\n",
    "%timeit -r 1 bioframe.overlap(df, df2, how='inner')\n",
    "\n",
    "print('Sorted inputs (outer/inner joins):')\n",
    "df_sorted = make_random_intervals(sort=True)\n",
    "df2_sorted = make_random_intervals(sort=True)\n",
    "\n",
    "%timeit -r 1 bioframe.overlap(df_sorted, df2_sorted)\n",
    "%timeit -r 1 bioframe.overlap(df_sorted, df2_sorted, how='inner')\n",
    "\n",
    "print('Categorical chromosomes (outer/inner joins):')\n",
    "df_cat = make_random_intervals(categorical_chroms=True)\n",
    "df2_cat = make_random_intervals(categorical_chroms=True)\n",
    "\n",
    "%timeit -r 1 bioframe.overlap(df_cat, df2_cat)\n",
    "%timeit -r 1 bioframe.overlap(df_cat, df2_cat, how='inner')"
   ]
  },
  {
   "cell_type": "markdown",
   "metadata": {},
   "source": [
    "## Vs Pyranges"
   ]
  },
  {
   "cell_type": "markdown",
   "metadata": {},
   "source": [
    "### Default arguments"
   ]
  },
  {
   "cell_type": "code",
   "execution_count": 15,
   "metadata": {},
   "outputs": [],
   "source": [
    "def df2pr(df):\n",
    "    return pyranges.PyRanges(\n",
    "    chromosomes=df.chrom,\n",
    "    starts=df.start,\n",
    "    ends=df.end,\n",
    "    )"
   ]
  },
  {
   "cell_type": "code",
   "execution_count": 16,
   "metadata": {},
   "outputs": [
    {
     "name": "stdout",
     "output_type": "stream",
     "text": [
      "8.34 ms ± 0 ns per loop (mean ± std. dev. of 1 run, 100 loops each)\n",
      "4.8 ms ± 0 ns per loop (mean ± std. dev. of 1 run, 100 loops each)\n",
      "12.6 ms ± 0 ns per loop (mean ± std. dev. of 1 run, 100 loops each)\n",
      "7.23 ms ± 0 ns per loop (mean ± std. dev. of 1 run, 100 loops each)\n",
      "42.7 ms ± 0 ns per loop (mean ± std. dev. of 1 run, 10 loops each)\n",
      "16.3 ms ± 0 ns per loop (mean ± std. dev. of 1 run, 100 loops each)\n",
      "389 ms ± 0 ns per loop (mean ± std. dev. of 1 run, 1 loop each)\n",
      "120 ms ± 0 ns per loop (mean ± std. dev. of 1 run, 10 loops each)\n",
      "5.64 s ± 0 ns per loop (mean ± std. dev. of 1 run, 1 loop each)\n",
      "1.74 s ± 0 ns per loop (mean ± std. dev. of 1 run, 1 loop each)\n"
     ]
    }
   ],
   "source": [
    "timings_bf = {}\n",
    "timings_pr = {}\n",
    "for n in [1e2, 1e3, 1e4, 1e5, 1e6]:\n",
    "    df = make_random_intervals(n=n, n_chroms=1)\n",
    "    df2 = make_random_intervals(n=n, n_chroms=1)\n",
    "    pr = df2pr(df)\n",
    "    pr2 = df2pr(df2)\n",
    "    timings_bf[n] = %timeit -o -r 1 bioframe.overlap(df, df2)\n",
    "    timings_pr[n] = %timeit -o -r 1 pr.intersect(pr2)\n",
    "    "
   ]
  },
  {
   "cell_type": "code",
   "execution_count": 17,
   "metadata": {},
   "outputs": [
    {
     "data": {
      "text/plain": [
       "<matplotlib.legend.Legend at 0x7fec57223190>"
      ]
     },
     "execution_count": 17,
     "metadata": {},
     "output_type": "execute_result"
    },
    {
     "data": {
      "image/png": "[encoded data removed]",
      "text/plain": [
       "<Figure size 432x288 with 1 Axes>"
      ]
     },
     "metadata": {},
     "output_type": "display_data"
    }
   ],
   "source": [
    "plt.loglog(\n",
    "    list(timings_bf.keys()),\n",
    "    list([r.average for r in timings_bf.values()]),\n",
    "    'o-',\n",
    "    label='bioframe'\n",
    ")\n",
    "plt.loglog(\n",
    "    list(timings_pr.keys()),\n",
    "    list([r.average for r in timings_pr.values()]),\n",
    "    'o-',\n",
    "    label='pyranges'\n",
    ")\n",
    "plt.xlabel('N intervals')\n",
    "plt.ylabel('time, ms')\n",
    "plt.gca().set_aspect(1.0)\n",
    "plt.grid()\n",
    "plt.legend()"
   ]
  },
  {
   "cell_type": "markdown",
   "metadata": {},
   "source": [
    "#### +conversion from/into dataframes +\"inner\" join type"
   ]
  },
  {
   "cell_type": "code",
   "execution_count": 18,
   "metadata": {},
   "outputs": [
    {
     "name": "stdout",
     "output_type": "stream",
     "text": [
      "5.28 ms ± 0 ns per loop (mean ± std. dev. of 1 run, 100 loops each)\n",
      "13 ms ± 0 ns per loop (mean ± std. dev. of 1 run, 100 loops each)\n",
      "4.31 ms ± 0 ns per loop (mean ± std. dev. of 1 run, 100 loops each)\n",
      "16.2 ms ± 0 ns per loop (mean ± std. dev. of 1 run, 100 loops each)\n",
      "23.9 ms ± 0 ns per loop (mean ± std. dev. of 1 run, 10 loops each)\n",
      "39.4 ms ± 0 ns per loop (mean ± std. dev. of 1 run, 10 loops each)\n",
      "254 ms ± 0 ns per loop (mean ± std. dev. of 1 run, 1 loop each)\n",
      "198 ms ± 0 ns per loop (mean ± std. dev. of 1 run, 1 loop each)\n",
      "5.02 s ± 0 ns per loop (mean ± std. dev. of 1 run, 1 loop each)\n",
      "2.68 s ± 0 ns per loop (mean ± std. dev. of 1 run, 1 loop each)\n",
      "14.4 s ± 0 ns per loop (mean ± std. dev. of 1 run, 1 loop each)\n",
      "9.5 s ± 0 ns per loop (mean ± std. dev. of 1 run, 1 loop each)\n"
     ]
    }
   ],
   "source": [
    "timings_bf = {}\n",
    "timings_pr = {}\n",
    "for n in [1e2, 1e3, 1e4, 1e5, 1e6, 3e6]:\n",
    "    df = make_random_intervals(n=n, n_chroms=1)\n",
    "    df2 = make_random_intervals(n=n, n_chroms=1)\n",
    "    timings_bf[n] = %timeit -o -r 1 bioframe.overlap(df, df2, how='inner')\n",
    "    timings_pr[n] = %timeit -o -r 1 df2pr(df).intersect(df2pr(df2)).as_df()\n",
    "    "
   ]
  },
  {
   "cell_type": "code",
   "execution_count": 19,
   "metadata": {},
   "outputs": [
    {
     "data": {
      "text/plain": [
       "<matplotlib.legend.Legend at 0x7febdbd533a0>"
      ]
     },
     "execution_count": 19,
     "metadata": {},
     "output_type": "execute_result"
    },
    {
     "data": {
      "image/png": "[encoded data removed]",
      "text/plain": [
       "<Figure size 432x288 with 1 Axes>"
      ]
     },
     "metadata": {},
     "output_type": "display_data"
    }
   ],
   "source": [
    "plt.loglog(\n",
    "    list(timings_bf.keys()),\n",
    "    list([r.average for r in timings_bf.values()]),\n",
    "    'o-',\n",
    "    label='bioframe'\n",
    ")\n",
    "plt.loglog(\n",
    "    list(timings_pr.keys()),\n",
    "    list([r.average for r in timings_pr.values()]),\n",
    "    'o-',\n",
    "    label='pyranges'\n",
    ")\n",
    "plt.xlabel('N intervals')\n",
    "plt.ylabel('time, ms')\n",
    "plt.gca().set_aspect(1.0)\n",
    "plt.grid()\n",
    "plt.legend()"
   ]
  },
  {
   "cell_type": "markdown",
   "metadata": {},
   "source": [
    "### Slicing "
   ]
  },
  {
   "cell_type": "code",
   "execution_count": 20,
   "metadata": {},
   "outputs": [
    {
     "name": "stdout",
     "output_type": "stream",
     "text": [
      "178 µs ± 0 ns per loop (mean ± std. dev. of 1 run, 1000 loops each)\n",
      "1.25 ms ± 0 ns per loop (mean ± std. dev. of 1 run, 1000 loops each)\n",
      "210 µs ± 0 ns per loop (mean ± std. dev. of 1 run, 1000 loops each)\n",
      "1.51 ms ± 0 ns per loop (mean ± std. dev. of 1 run, 1000 loops each)\n",
      "709 µs ± 0 ns per loop (mean ± std. dev. of 1 run, 1000 loops each)\n",
      "3.63 ms ± 0 ns per loop (mean ± std. dev. of 1 run, 100 loops each)\n",
      "3.62 ms ± 0 ns per loop (mean ± std. dev. of 1 run, 100 loops each)\n",
      "25.7 ms ± 0 ns per loop (mean ± std. dev. of 1 run, 10 loops each)\n",
      "39.5 ms ± 0 ns per loop (mean ± std. dev. of 1 run, 10 loops each)\n",
      "291 ms ± 0 ns per loop (mean ± std. dev. of 1 run, 1 loop each)\n",
      "109 ms ± 0 ns per loop (mean ± std. dev. of 1 run, 10 loops each)\n",
      "965 ms ± 0 ns per loop (mean ± std. dev. of 1 run, 1 loop each)\n"
     ]
    }
   ],
   "source": [
    "timings_bf = {}\n",
    "timings_pr = {}\n",
    "for n in [1e2, 1e3, 1e4, 1e5, 1e6, 3e6]:\n",
    "    df = make_random_intervals(n=n, n_chroms=1)\n",
    "    timings_bf[n] = %timeit -o -r 1 bioframe.select(df, ('chr1', n//2, n//4*3))\n",
    "    pr = df2pr(df)\n",
    "    timings_pr[n] = %timeit -o -r 1 pr['chr1', n//2:n//4*3]\n",
    "    "
   ]
  },
  {
   "cell_type": "code",
   "execution_count": 21,
   "metadata": {},
   "outputs": [
    {
     "data": {
      "text/plain": [
       "<matplotlib.legend.Legend at 0x7febec2e28e0>"
      ]
     },
     "execution_count": 21,
     "metadata": {},
     "output_type": "execute_result"
    },
    {
     "data": {
      "image/png": "[encoded data removed]",
      "text/plain": [
       "<Figure size 432x288 with 1 Axes>"
      ]
     },
     "metadata": {},
     "output_type": "display_data"
    }
   ],
   "source": [
    "plt.loglog(\n",
    "    list(timings_bf.keys()),\n",
    "    list([r.average for r in timings_bf.values()]),\n",
    "    'o-',\n",
    "    label='bioframe'\n",
    ")\n",
    "\n",
    "plt.loglog(\n",
    "    list(timings_pr.keys()),\n",
    "    list([r.average for r in timings_pr.values()]),\n",
    "    'o-',\n",
    "    label='pyranges'\n",
    ")\n",
    "plt.xlabel('N intervals')\n",
    "plt.ylabel('time, ms')\n",
    "plt.gca().set_aspect(1.0)\n",
    "plt.grid()\n",
    "plt.legend()"
   ]
  },
  {
   "cell_type": "code",
   "execution_count": 22,
   "metadata": {},
   "outputs": [],
   "source": [
    "\n",
    "\n",
    "# %timeit intarr=pd.IntervalIndex.from_arrays(starts1, ends1)\n",
    "\n",
    "# %timeit intarr=pd.IntervalIndex.from_arrays(starts1, ends1)\n",
    "\n",
    "# %timeit intarr.overlaps(pd.Interval(500000,600000))\n",
    "\n",
    "# %timeit (starts1<=600000)&(ends1>=500000)"
   ]
  }
 ],
 "metadata": {
  "kernelspec": {
   "display_name": "Python 3",
   "language": "python",
   "name": "python3"
  },
  "language_info": {
   "codemirror_mode": {
    "name": "ipython",
    "version": 3
   },
   "file_extension": ".py",
   "mimetype": "text/x-python",
   "name": "python",
   "nbconvert_exporter": "python",
   "pygments_lexer": "ipython3",
   "version": "3.8.5"
  }
 },
 "nbformat": 4,
 "nbformat_minor": 4
}
