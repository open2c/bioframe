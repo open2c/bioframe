{
 "cells": [
  {
   "cell_type": "markdown",
   "metadata": {},
   "source": [
    "# How to: assign TF Motifs to ChIP-seq peaks\n",
    "\n",
    "This tutorial demonstrates one way to assign CTCF motifs to CTCF ChIP-seq peaks using bioframe.\n"
   ]
  },
  {
   "cell_type": "code",
   "execution_count": 1,
   "metadata": {},
   "outputs": [],
   "source": [
    "import bioframe\n",
    "import os\n",
    "import subprocess\n",
    "import numpy as np\n",
    "import pandas as pd \n",
    "import matplotlib.pyplot as plt\n",
    "from scipy.stats import pearsonr, spearmanr"
   ]
  },
  {
   "cell_type": "code",
   "execution_count": 2,
   "metadata": {},
   "outputs": [],
   "source": [
    "base_dir = '/tmp/bioframe_tutorial_data_v2/'\n",
    "assembly = 'GRCh38'"
   ]
  },
  {
   "cell_type": "markdown",
   "metadata": {},
   "source": [
    "## Load CTCF ChIP-seq peaks for HFF from ENCODE\n",
    "\n",
    "This approach makes use of the `narrowPeak` schema for bioframe.read_table . "
   ]
  },
  {
   "cell_type": "code",
   "execution_count": 21,
   "metadata": {},
   "outputs": [
    {
     "data": {
      "text/html": [
       "<div>\n",
       "<style scoped>\n",
       "    .dataframe tbody tr th:only-of-type {\n",
       "        vertical-align: middle;\n",
       "    }\n",
       "\n",
       "    .dataframe tbody tr th {\n",
       "        vertical-align: top;\n",
       "    }\n",
       "\n",
       "    .dataframe thead th {\n",
       "        text-align: right;\n",
       "    }\n",
       "</style>\n",
       "<table border=\"1\" class=\"dataframe\">\n",
       "  <thead>\n",
       "    <tr style=\"text-align: right;\">\n",
       "      <th></th>\n",
       "      <th>chrom</th>\n",
       "      <th>start</th>\n",
       "      <th>end</th>\n",
       "      <th>name</th>\n",
       "      <th>score</th>\n",
       "      <th>strand</th>\n",
       "      <th>fc</th>\n",
       "      <th>-log10p</th>\n",
       "      <th>-log10q</th>\n",
       "      <th>relSummit</th>\n",
       "    </tr>\n",
       "  </thead>\n",
       "  <tbody>\n",
       "    <tr>\n",
       "      <th>0</th>\n",
       "      <td>chr19</td>\n",
       "      <td>48309541</td>\n",
       "      <td>48309911</td>\n",
       "      <td>.</td>\n",
       "      <td>1000</td>\n",
       "      <td>.</td>\n",
       "      <td>5.04924</td>\n",
       "      <td>-1.0</td>\n",
       "      <td>0.00438</td>\n",
       "      <td>185</td>\n",
       "    </tr>\n",
       "    <tr>\n",
       "      <th>1</th>\n",
       "      <td>chr4</td>\n",
       "      <td>130563716</td>\n",
       "      <td>130564086</td>\n",
       "      <td>.</td>\n",
       "      <td>993</td>\n",
       "      <td>.</td>\n",
       "      <td>5.05052</td>\n",
       "      <td>-1.0</td>\n",
       "      <td>0.00432</td>\n",
       "      <td>185</td>\n",
       "    </tr>\n",
       "    <tr>\n",
       "      <th>2</th>\n",
       "      <td>chr1</td>\n",
       "      <td>200622507</td>\n",
       "      <td>200622877</td>\n",
       "      <td>.</td>\n",
       "      <td>591</td>\n",
       "      <td>.</td>\n",
       "      <td>5.05489</td>\n",
       "      <td>-1.0</td>\n",
       "      <td>0.00400</td>\n",
       "      <td>185</td>\n",
       "    </tr>\n",
       "    <tr>\n",
       "      <th>3</th>\n",
       "      <td>chr5</td>\n",
       "      <td>112848447</td>\n",
       "      <td>112848817</td>\n",
       "      <td>.</td>\n",
       "      <td>869</td>\n",
       "      <td>.</td>\n",
       "      <td>5.05841</td>\n",
       "      <td>-1.0</td>\n",
       "      <td>0.00441</td>\n",
       "      <td>185</td>\n",
       "    </tr>\n",
       "    <tr>\n",
       "      <th>4</th>\n",
       "      <td>chr1</td>\n",
       "      <td>145960616</td>\n",
       "      <td>145960986</td>\n",
       "      <td>.</td>\n",
       "      <td>575</td>\n",
       "      <td>.</td>\n",
       "      <td>5.05955</td>\n",
       "      <td>-1.0</td>\n",
       "      <td>0.00439</td>\n",
       "      <td>185</td>\n",
       "    </tr>\n",
       "  </tbody>\n",
       "</table>\n",
       "</div>"
      ],
      "text/plain": [
       "   chrom      start        end name  score strand       fc  -log10p  -log10q  \\\n",
       "0  chr19   48309541   48309911    .   1000      .  5.04924     -1.0  0.00438   \n",
       "1   chr4  130563716  130564086    .    993      .  5.05052     -1.0  0.00432   \n",
       "2   chr1  200622507  200622877    .    591      .  5.05489     -1.0  0.00400   \n",
       "3   chr5  112848447  112848817    .    869      .  5.05841     -1.0  0.00441   \n",
       "4   chr1  145960616  145960986    .    575      .  5.05955     -1.0  0.00439   \n",
       "\n",
       "   relSummit  \n",
       "0        185  \n",
       "1        185  \n",
       "2        185  \n",
       "3        185  \n",
       "4        185  "
      ]
     },
     "execution_count": 21,
     "metadata": {},
     "output_type": "execute_result"
    }
   ],
   "source": [
    "ctcf_peaks = bioframe.read_table(\"https://www.encodeproject.org/files/ENCFF401MQL/@@download/ENCFF401MQL.bed.gz\", schema='narrowPeak')\n",
    "ctcf_peaks[0:5]"
   ]
  },
  {
   "cell_type": "markdown",
   "metadata": {},
   "source": [
    "## Get CTCF motifs from JASPAR"
   ]
  },
  {
   "cell_type": "code",
   "execution_count": 22,
   "metadata": {},
   "outputs": [
    {
     "data": {
      "text/html": [
       "<div>\n",
       "<style scoped>\n",
       "    .dataframe tbody tr th:only-of-type {\n",
       "        vertical-align: middle;\n",
       "    }\n",
       "\n",
       "    .dataframe tbody tr th {\n",
       "        vertical-align: top;\n",
       "    }\n",
       "\n",
       "    .dataframe thead th {\n",
       "        text-align: right;\n",
       "    }\n",
       "</style>\n",
       "<table border=\"1\" class=\"dataframe\">\n",
       "  <thead>\n",
       "    <tr style=\"text-align: right;\">\n",
       "      <th></th>\n",
       "      <th>chrom</th>\n",
       "      <th>start</th>\n",
       "      <th>end</th>\n",
       "      <th>name</th>\n",
       "      <th>score</th>\n",
       "      <th>pval</th>\n",
       "      <th>strand</th>\n",
       "    </tr>\n",
       "  </thead>\n",
       "  <tbody>\n",
       "    <tr>\n",
       "      <th>0</th>\n",
       "      <td>chrM</td>\n",
       "      <td>1259</td>\n",
       "      <td>1277</td>\n",
       "      <td>CTCF</td>\n",
       "      <td>825</td>\n",
       "      <td>449</td>\n",
       "      <td>-</td>\n",
       "    </tr>\n",
       "    <tr>\n",
       "      <th>1</th>\n",
       "      <td>chrM</td>\n",
       "      <td>9965</td>\n",
       "      <td>9983</td>\n",
       "      <td>CTCF</td>\n",
       "      <td>802</td>\n",
       "      <td>400</td>\n",
       "      <td>-</td>\n",
       "    </tr>\n",
       "    <tr>\n",
       "      <th>2</th>\n",
       "      <td>chr10</td>\n",
       "      <td>11428</td>\n",
       "      <td>11446</td>\n",
       "      <td>CTCF</td>\n",
       "      <td>808</td>\n",
       "      <td>455</td>\n",
       "      <td>-</td>\n",
       "    </tr>\n",
       "    <tr>\n",
       "      <th>3</th>\n",
       "      <td>chr10</td>\n",
       "      <td>11454</td>\n",
       "      <td>11472</td>\n",
       "      <td>CTCF</td>\n",
       "      <td>800</td>\n",
       "      <td>428</td>\n",
       "      <td>-</td>\n",
       "    </tr>\n",
       "  </tbody>\n",
       "</table>\n",
       "</div>"
      ],
      "text/plain": [
       "   chrom  start    end   name  score  pval strand\n",
       "0   chrM   1259   1277   CTCF    825   449      -\n",
       "1   chrM   9965   9983   CTCF    802   400      -\n",
       "2  chr10  11428  11446   CTCF    808   455      -\n",
       "3  chr10  11454  11472   CTCF    800   428      -"
      ]
     },
     "execution_count": 22,
     "metadata": {},
     "output_type": "execute_result"
    }
   ],
   "source": [
    "### CTCF motif: http://jaspar.genereg.net/matrix/MA0139.1/\n",
    "jaspar_url = 'http://expdata.cmmt.ubc.ca/JASPAR/downloads/UCSC_tracks/2018/hg38/tsv/'\n",
    "jaspar_motif_file = 'MA0139.1.tsv.gz'\n",
    "ctcf_motifs = bioframe.read_table(jaspar_url+jaspar_motif_file,schema='jaspar',skiprows=1)    \n",
    "ctcf_motifs[0:4]"
   ]
  },
  {
   "cell_type": "markdown",
   "metadata": {},
   "source": [
    "## Overlap peaks & motifs"
   ]
  },
  {
   "cell_type": "code",
   "execution_count": 25,
   "metadata": {},
   "outputs": [],
   "source": [
    "df_peaks_motifs = bioframe.overlap(ctcf_peaks,ctcf_motifs, suffixes=('_1','_2'))"
   ]
  },
  {
   "cell_type": "markdown",
   "metadata": {},
   "source": [
    "There are often multiple motifs overlapping one ChIP-seq peak:"
   ]
  },
  {
   "cell_type": "code",
   "execution_count": 26,
   "metadata": {},
   "outputs": [
    {
     "data": {
      "image/png": "[encoded data removed]",
      "text/plain": [
       "<Figure size 432x288 with 1 Axes>"
      ]
     },
     "metadata": {
      "needs_background": "light"
     },
     "output_type": "display_data"
    }
   ],
   "source": [
    "motifs_per_peak = df_peaks_motifs.groupby([\"chrom_1\", \"start_1\",\"end_1\"]).size().values\n",
    "plt.hist(motifs_per_peak,np.arange(0,np.max(motifs_per_peak)))\n",
    "plt.xlabel('number of overlapping motifs per peak')\n",
    "plt.ylabel('number of peaks')\n",
    "plt.semilogy();"
   ]
  },
  {
   "cell_type": "markdown",
   "metadata": {},
   "source": [
    "### assign the strongest motif to each peak"
   ]
  },
  {
   "cell_type": "code",
   "execution_count": 41,
   "metadata": {},
   "outputs": [],
   "source": [
    "# since idxmax does not currently take NA, fill with -1\n",
    "df_peaks_motifs['pval_2'] = df_peaks_motifs['pval_2'].fillna(-1) \n",
    "idxmax_peaks_motifs = df_peaks_motifs.groupby([\"chrom_1\", \"start_1\",\"end_1\"])[\"pval_2\"].idxmax().values\n",
    "df_peaks_maxmotif = df_peaks_motifs.loc[idxmax_peaks_motifs]\n",
    "df_peaks_maxmotif['pval_2'].replace(-1,np.nan,inplace=True)"
   ]
  },
  {
   "cell_type": "markdown",
   "metadata": {},
   "source": [
    "stronger peaks tend to have stronger motifs:"
   ]
  },
  {
   "cell_type": "code",
   "execution_count": 43,
   "metadata": {},
   "outputs": [
    {
     "data": {
      "image/png": "[encoded data removed]",
      "text/plain": [
       "<Figure size 432x288 with 1 Axes>"
      ]
     },
     "metadata": {
      "needs_background": "light"
     },
     "output_type": "display_data"
    }
   ],
   "source": [
    "plt.rcParams['font.size']=12\n",
    "df_peaks_maxmotif['fc_1']  = df_peaks_maxmotif['fc_1'].values.astype('float')\n",
    "plt.scatter(df_peaks_maxmotif['fc_1'].values, \n",
    "            df_peaks_maxmotif['pval_2'].values, 5, alpha=0.5,lw=0)\n",
    "plt.xlabel('ENCODE CTCF peak strength, fc')\n",
    "plt.ylabel('JASPAR CTCF motif strength \\n (-log10 pval *100)')\n",
    "plt.title('corr: '+str(np.round(df_peaks_maxmotif['fc_1'].corr(df_peaks_maxmotif['pval_2']),2)));"
   ]
  },
  {
   "cell_type": "markdown",
   "metadata": {},
   "source": [
    "We can also ask the reverse question: how many motifs overlap a ChIP-seq peak?"
   ]
  },
  {
   "cell_type": "code",
   "execution_count": 47,
   "metadata": {},
   "outputs": [],
   "source": [
    "df_motifs_peaks = bioframe.overlap(ctcf_motifs,ctcf_peaks,how='left', suffixes=('_1','_2'))"
   ]
  },
  {
   "cell_type": "code",
   "execution_count": 49,
   "metadata": {},
   "outputs": [
    {
     "data": {
      "image/png": "[encoded data removed]",
      "text/plain": [
       "<Figure size 432x288 with 1 Axes>"
      ]
     },
     "metadata": {
      "needs_background": "light"
     },
     "output_type": "display_data"
    }
   ],
   "source": [
    "m = df_motifs_peaks.sort_values('pval_1')\n",
    "plt.plot( m['pval_1'].values[::-1] ,\n",
    "    np.cumsum(pd.isnull(m['chrom_2'].values[::-1])==0)/np.arange(1,len(m)+1))\n",
    "plt.xlabel('pval')\n",
    "plt.ylabel('probability motif overlaps a peak');\n"
   ]
  },
  {
   "cell_type": "markdown",
   "metadata": {},
   "source": [
    "### filter peaks overlapping blacklisted regions\n",
    "\n",
    "do any of our peaks overlap blacklisted genomic regions?"
   ]
  },
  {
   "cell_type": "code",
   "execution_count": 51,
   "metadata": {},
   "outputs": [
    {
     "data": {
      "text/html": [
       "<div>\n",
       "<style scoped>\n",
       "    .dataframe tbody tr th:only-of-type {\n",
       "        vertical-align: middle;\n",
       "    }\n",
       "\n",
       "    .dataframe tbody tr th {\n",
       "        vertical-align: top;\n",
       "    }\n",
       "\n",
       "    .dataframe thead th {\n",
       "        text-align: right;\n",
       "    }\n",
       "</style>\n",
       "<table border=\"1\" class=\"dataframe\">\n",
       "  <thead>\n",
       "    <tr style=\"text-align: right;\">\n",
       "      <th></th>\n",
       "      <th>chrom</th>\n",
       "      <th>start</th>\n",
       "      <th>end</th>\n",
       "    </tr>\n",
       "  </thead>\n",
       "  <tbody>\n",
       "    <tr>\n",
       "      <th>0</th>\n",
       "      <td>chr1</td>\n",
       "      <td>628903</td>\n",
       "      <td>635104</td>\n",
       "    </tr>\n",
       "    <tr>\n",
       "      <th>1</th>\n",
       "      <td>chr1</td>\n",
       "      <td>5850087</td>\n",
       "      <td>5850571</td>\n",
       "    </tr>\n",
       "    <tr>\n",
       "      <th>2</th>\n",
       "      <td>chr1</td>\n",
       "      <td>8909610</td>\n",
       "      <td>8910014</td>\n",
       "    </tr>\n",
       "  </tbody>\n",
       "</table>\n",
       "</div>"
      ],
      "text/plain": [
       "  chrom    start      end\n",
       "0  chr1   628903   635104\n",
       "1  chr1  5850087  5850571\n",
       "2  chr1  8909610  8910014"
      ]
     },
     "execution_count": 51,
     "metadata": {},
     "output_type": "execute_result"
    }
   ],
   "source": [
    "blacklist = bioframe.read_table('https://www.encodeproject.org/files/ENCFF356LFX/@@download/ENCFF356LFX.bed.gz',\n",
    "                                schema='bed3')\n",
    "blacklist[0:3]"
   ]
  },
  {
   "cell_type": "markdown",
   "metadata": {},
   "source": [
    "there appears to be a small spike in the number of peaks close to blacklist regions"
   ]
  },
  {
   "cell_type": "code",
   "execution_count": 62,
   "metadata": {},
   "outputs": [
    {
     "data": {
      "image/png": "[encoded data removed]",
      "text/plain": [
       "<Figure size 432x288 with 1 Axes>"
      ]
     },
     "metadata": {
      "needs_background": "light"
     },
     "output_type": "display_data"
    }
   ],
   "source": [
    "import matplotlib.pyplot as plt\n",
    "closest_to_blacklist = bioframe.closest(ctcf_peaks,blacklist)\n",
    "plt.hist(closest_to_blacklist['distance'].astype('Float64').astype('float'),np.arange(0,1e4,100));"
   ]
  },
  {
   "cell_type": "markdown",
   "metadata": {},
   "source": [
    "to be safe, let's remove anything +/- 1kb from a blacklisted region"
   ]
  },
  {
   "cell_type": "code",
   "execution_count": 63,
   "metadata": {},
   "outputs": [],
   "source": [
    "# first let's select the columns we want for our final dataframe of peaks with motifs\n",
    "df_peaks_maxmotif = df_peaks_maxmotif[\n",
    "                            ['chrom_1','start_1','end_1','fc_1',\n",
    "                             'chrom_2','start_2','end_2','pval_2','strand_2']]\n",
    "#  then rename columns for convenience when subtracting\n",
    "for i in df_peaks_maxmotif.keys():\n",
    "    if '_1' in i: df_peaks_maxmotif.rename(columns={i:i.split('_')[0]},inplace=True)\n",
    "\n",
    "# now subtract, expanding the blacklist by 1kb        \n",
    "df_peaks_maxmotif_clean = bioframe.subtract(df_peaks_maxmotif,bioframe.expand(blacklist,1000))"
   ]
  },
  {
   "cell_type": "markdown",
   "metadata": {},
   "source": [
    "there it is! we now have a dataframe containing positions of CTCF ChIP peaks, \n",
    "including the strongest motif underlying that peak, and after conservative\n",
    "filtering for proximity to blacklisted regions"
   ]
  },
  {
   "cell_type": "code",
   "execution_count": 64,
   "metadata": {},
   "outputs": [
    {
     "data": {
      "text/html": [
       "<div>\n",
       "<style scoped>\n",
       "    .dataframe tbody tr th:only-of-type {\n",
       "        vertical-align: middle;\n",
       "    }\n",
       "\n",
       "    .dataframe tbody tr th {\n",
       "        vertical-align: top;\n",
       "    }\n",
       "\n",
       "    .dataframe thead th {\n",
       "        text-align: right;\n",
       "    }\n",
       "</style>\n",
       "<table border=\"1\" class=\"dataframe\">\n",
       "  <thead>\n",
       "    <tr style=\"text-align: right;\">\n",
       "      <th></th>\n",
       "      <th>chrom</th>\n",
       "      <th>start</th>\n",
       "      <th>end</th>\n",
       "      <th>fc</th>\n",
       "      <th>chrom_2</th>\n",
       "      <th>start_2</th>\n",
       "      <th>end_2</th>\n",
       "      <th>pval_2</th>\n",
       "      <th>strand_2</th>\n",
       "    </tr>\n",
       "  </thead>\n",
       "  <tbody>\n",
       "    <tr>\n",
       "      <th>0</th>\n",
       "      <td>chr19</td>\n",
       "      <td>48309541</td>\n",
       "      <td>48309911</td>\n",
       "      <td>5.04924</td>\n",
       "      <td>None</td>\n",
       "      <td>&lt;NA&gt;</td>\n",
       "      <td>&lt;NA&gt;</td>\n",
       "      <td>NaN</td>\n",
       "      <td>None</td>\n",
       "    </tr>\n",
       "    <tr>\n",
       "      <th>1</th>\n",
       "      <td>chr4</td>\n",
       "      <td>130563716</td>\n",
       "      <td>130564086</td>\n",
       "      <td>5.05052</td>\n",
       "      <td>None</td>\n",
       "      <td>&lt;NA&gt;</td>\n",
       "      <td>&lt;NA&gt;</td>\n",
       "      <td>NaN</td>\n",
       "      <td>None</td>\n",
       "    </tr>\n",
       "    <tr>\n",
       "      <th>2</th>\n",
       "      <td>chr1</td>\n",
       "      <td>200622507</td>\n",
       "      <td>200622877</td>\n",
       "      <td>5.05489</td>\n",
       "      <td>None</td>\n",
       "      <td>&lt;NA&gt;</td>\n",
       "      <td>&lt;NA&gt;</td>\n",
       "      <td>NaN</td>\n",
       "      <td>None</td>\n",
       "    </tr>\n",
       "  </tbody>\n",
       "</table>\n",
       "</div>"
      ],
      "text/plain": [
       "   chrom      start        end       fc chrom_2  start_2  end_2  pval_2  \\\n",
       "0  chr19   48309541   48309911  5.04924    None     <NA>   <NA>     NaN   \n",
       "1   chr4  130563716  130564086  5.05052    None     <NA>   <NA>     NaN   \n",
       "2   chr1  200622507  200622877  5.05489    None     <NA>   <NA>     NaN   \n",
       "\n",
       "  strand_2  \n",
       "0     None  \n",
       "1     None  \n",
       "2     None  "
      ]
     },
     "execution_count": 64,
     "metadata": {},
     "output_type": "execute_result"
    }
   ],
   "source": [
    "df_peaks_maxmotif_clean.iloc[0:3]"
   ]
  }
 ],
 "metadata": {
  "jupytext": {
   "formats": "ipynb,md:myst"
  },
  "kernelspec": {
   "display_name": "Python 3",
   "language": "python",
   "name": "python3"
  },
  "language_info": {
   "codemirror_mode": {
    "name": "ipython",
    "version": 3
   },
   "file_extension": ".py",
   "mimetype": "text/x-python",
   "name": "python",
   "nbconvert_exporter": "python",
   "pygments_lexer": "ipython3",
   "version": "3.8.5"
  }
 },
 "nbformat": 4,
 "nbformat_minor": 4
}
